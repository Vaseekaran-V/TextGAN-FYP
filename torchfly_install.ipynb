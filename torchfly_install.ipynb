{
 "cells": [
  {
   "cell_type": "code",
   "execution_count": null,
   "id": "ef4265da-25fd-4969-b611-5fef8dc59552",
   "metadata": {
    "collapsed": false,
    "gradient": {
     "editing": false,
     "execution_count": 2,
     "id": "ef4265da-25fd-4969-b611-5fef8dc59552",
     "kernelId": "a7d7ed12-66e2-4d6b-9942-96b96daf7cfa",
     "source_hidden": false
    }
   },
   "outputs": [
    {
     "name": "stdout",
     "output_type": "stream",
     "text": [
      "Cloning into 'apex'...\r\n"
     ]
    },
    {
     "name": "stdout",
     "output_type": "stream",
     "text": [
      "remote: Enumerating objects: 5664, done.\u001b[K\r\n"
     ]
    },
    {
     "name": "stdout",
     "output_type": "stream",
     "text": [
      "Receiving objects:   0% (1/5664)\r"
     ]
    },
    {
     "name": "stdout",
     "output_type": "stream",
     "text": [
      "Receiving objects:   1% (57/5664)\r"
     ]
    },
    {
     "name": "stdout",
     "output_type": "stream",
     "text": [
      "Receiving objects:   2% (114/5664)\r",
      "Receiving objects:   3% (170/5664)\r",
      "Receiving objects:   4% (227/5664)\r",
      "Receiving objects:   5% (284/5664)\r"
     ]
    },
    {
     "name": "stdout",
     "output_type": "stream",
     "text": [
      "Receiving objects:   6% (340/5664)\r",
      "Receiving objects:   7% (397/5664)\r",
      "Receiving objects:   8% (454/5664)\r",
      "Receiving objects:   9% (510/5664)\r",
      "Receiving objects:  10% (567/5664)\r"
     ]
    },
    {
     "name": "stdout",
     "output_type": "stream",
     "text": [
      "Receiving objects:  11% (624/5664)\r",
      "Receiving objects:  12% (680/5664)\r",
      "Receiving objects:  13% (737/5664)\r",
      "Receiving objects:  14% (793/5664)\r",
      "Receiving objects:  15% (850/5664)\r",
      "Receiving objects:  16% (907/5664)\r",
      "Receiving objects:  17% (963/5664)\r"
     ]
    },
    {
     "name": "stdout",
     "output_type": "stream",
     "text": [
      "Receiving objects:  18% (1020/5664)\r",
      "Receiving objects:  19% (1077/5664)\r",
      "Receiving objects:  20% (1133/5664)\r",
      "Receiving objects:  21% (1190/5664)\r",
      "Receiving objects:  22% (1247/5664)\r",
      "Receiving objects:  23% (1303/5664)\r",
      "Receiving objects:  24% (1360/5664)\r",
      "Receiving objects:  25% (1416/5664)\r"
     ]
    },
    {
     "name": "stdout",
     "output_type": "stream",
     "text": [
      "Receiving objects:  26% (1473/5664)\r",
      "Receiving objects:  27% (1530/5664)\r",
      "Receiving objects:  28% (1586/5664)\r"
     ]
    },
    {
     "name": "stdout",
     "output_type": "stream",
     "text": [
      "Receiving objects:  29% (1643/5664), 3.67 MiB | 7.34 MiB/s\r",
      "Receiving objects:  30% (1700/5664), 3.67 MiB | 7.34 MiB/s\r",
      "Receiving objects:  31% (1756/5664), 3.67 MiB | 7.34 MiB/s\r",
      "Receiving objects:  32% (1813/5664), 3.67 MiB | 7.34 MiB/s\r",
      "Receiving objects:  33% (1870/5664), 3.67 MiB | 7.34 MiB/s\r",
      "Receiving objects:  34% (1926/5664), 3.67 MiB | 7.34 MiB/s\r"
     ]
    },
    {
     "name": "stdout",
     "output_type": "stream",
     "text": [
      "Receiving objects:  35% (1983/5664), 3.67 MiB | 7.34 MiB/s\r",
      "Receiving objects:  36% (2040/5664), 3.67 MiB | 7.34 MiB/s\r"
     ]
    },
    {
     "name": "stdout",
     "output_type": "stream",
     "text": [
      "Receiving objects:  37% (2096/5664), 3.67 MiB | 7.34 MiB/s\r",
      "Receiving objects:  38% (2153/5664), 3.67 MiB | 7.34 MiB/s\r",
      "Receiving objects:  39% (2209/5664), 3.67 MiB | 7.34 MiB/s\r",
      "Receiving objects:  40% (2266/5664), 3.67 MiB | 7.34 MiB/s\r",
      "Receiving objects:  41% (2323/5664), 3.67 MiB | 7.34 MiB/s\r",
      "Receiving objects:  42% (2379/5664), 3.67 MiB | 7.34 MiB/s\r",
      "Receiving objects:  43% (2436/5664), 3.67 MiB | 7.34 MiB/s\r",
      "Receiving objects:  44% (2493/5664), 3.67 MiB | 7.34 MiB/s\r",
      "Receiving objects:  45% (2549/5664), 3.67 MiB | 7.34 MiB/s\r"
     ]
    },
    {
     "name": "stdout",
     "output_type": "stream",
     "text": [
      "Receiving objects:  46% (2606/5664), 3.67 MiB | 7.34 MiB/s\r",
      "Receiving objects:  47% (2663/5664), 3.67 MiB | 7.34 MiB/s\r",
      "Receiving objects:  48% (2719/5664), 3.67 MiB | 7.34 MiB/s\r",
      "Receiving objects:  49% (2776/5664), 3.67 MiB | 7.34 MiB/s\r",
      "Receiving objects:  50% (2832/5664), 3.67 MiB | 7.34 MiB/s\r",
      "Receiving objects:  51% (2889/5664), 3.67 MiB | 7.34 MiB/s\r",
      "Receiving objects:  52% (2946/5664), 3.67 MiB | 7.34 MiB/s\r"
     ]
    },
    {
     "name": "stdout",
     "output_type": "stream",
     "text": [
      "Receiving objects:  52% (2967/5664), 3.67 MiB | 7.34 MiB/s\r",
      "Receiving objects:  53% (3002/5664), 13.07 MiB | 12.94 MiB/s\r",
      "Receiving objects:  54% (3059/5664), 13.07 MiB | 12.94 MiB/s\r",
      "Receiving objects:  55% (3116/5664), 13.07 MiB | 12.94 MiB/s\r",
      "Receiving objects:  56% (3172/5664), 13.07 MiB | 12.94 MiB/s\r",
      "Receiving objects:  57% (3229/5664), 13.07 MiB | 12.94 MiB/s\r",
      "Receiving objects:  58% (3286/5664), 13.07 MiB | 12.94 MiB/s\r",
      "Receiving objects:  59% (3342/5664), 13.07 MiB | 12.94 MiB/s\r",
      "Receiving objects:  60% (3399/5664), 13.07 MiB | 12.94 MiB/s\r",
      "Receiving objects:  61% (3456/5664), 13.07 MiB | 12.94 MiB/s\r",
      "Receiving objects:  62% (3512/5664), 13.07 MiB | 12.94 MiB/s\r",
      "Receiving objects:  63% (3569/5664), 13.07 MiB | 12.94 MiB/s\r",
      "Receiving objects:  64% (3625/5664), 13.07 MiB | 12.94 MiB/s\r",
      "Receiving objects:  65% (3682/5664), 13.07 MiB | 12.94 MiB/s\r",
      "Receiving objects:  66% (3739/5664), 13.07 MiB | 12.94 MiB/s\r",
      "Receiving objects:  67% (3795/5664), 13.07 MiB | 12.94 MiB/s\r",
      "Receiving objects:  68% (3852/5664), 13.07 MiB | 12.94 MiB/s\r",
      "Receiving objects:  69% (3909/5664), 13.07 MiB | 12.94 MiB/s\r",
      "Receiving objects:  70% (3965/5664), 13.07 MiB | 12.94 MiB/s\r",
      "Receiving objects:  71% (4022/5664), 13.07 MiB | 12.94 MiB/s\r",
      "Receiving objects:  72% (4079/5664), 13.07 MiB | 12.94 MiB/s\r",
      "Receiving objects:  73% (4135/5664), 13.07 MiB | 12.94 MiB/s\r",
      "Receiving objects:  74% (4192/5664), 13.07 MiB | 12.94 MiB/s\r",
      "Receiving objects:  75% (4248/5664), 13.07 MiB | 12.94 MiB/s\r",
      "Receiving objects:  76% (4305/5664), 13.07 MiB | 12.94 MiB/s\r",
      "Receiving objects:  77% (4362/5664), 13.07 MiB | 12.94 MiB/s\r",
      "Receiving objects:  78% (4418/5664), 13.07 MiB | 12.94 MiB/s\r",
      "Receiving objects:  79% (4475/5664), 13.07 MiB | 12.94 MiB/s\r",
      "Receiving objects:  80% (4532/5664), 13.07 MiB | 12.94 MiB/s\r",
      "Receiving objects:  81% (4588/5664), 13.07 MiB | 12.94 MiB/s\r",
      "Receiving objects:  82% (4645/5664), 13.07 MiB | 12.94 MiB/s\r",
      "Receiving objects:  83% (4702/5664), 13.07 MiB | 12.94 MiB/s\r",
      "Receiving objects:  84% (4758/5664), 13.07 MiB | 12.94 MiB/s\r",
      "Receiving objects:  85% (4815/5664), 13.07 MiB | 12.94 MiB/s\r",
      "Receiving objects:  86% (4872/5664), 13.07 MiB | 12.94 MiB/s\r",
      "Receiving objects:  87% (4928/5664), 13.07 MiB | 12.94 MiB/s\r",
      "Receiving objects:  88% (4985/5664), 13.07 MiB | 12.94 MiB/s\r",
      "Receiving objects:  89% (5041/5664), 13.07 MiB | 12.94 MiB/s\r",
      "Receiving objects:  90% (5098/5664), 13.07 MiB | 12.94 MiB/s\r",
      "Receiving objects:  91% (5155/5664), 13.07 MiB | 12.94 MiB/s\r",
      "Receiving objects:  92% (5211/5664), 13.07 MiB | 12.94 MiB/s\r",
      "remote: Total 5664 (delta 0), reused 0 (delta 0), pack-reused 5664\u001b[K\r\n",
      "Receiving objects:  93% (5268/5664), 13.07 MiB | 12.94 MiB/s\r",
      "Receiving objects:  94% (5325/5664), 13.07 MiB | 12.94 MiB/s\r",
      "Receiving objects:  95% (5381/5664), 13.07 MiB | 12.94 MiB/s\r",
      "Receiving objects:  96% (5438/5664), 13.07 MiB | 12.94 MiB/s\r",
      "Receiving objects:  97% (5495/5664), 13.07 MiB | 12.94 MiB/s\r",
      "Receiving objects:  98% (5551/5664), 13.07 MiB | 12.94 MiB/s\r",
      "Receiving objects:  99% (5608/5664), 13.07 MiB | 12.94 MiB/s\r",
      "Receiving objects: 100% (5664/5664), 13.07 MiB | 12.94 MiB/s\r",
      "Receiving objects: 100% (5664/5664), 13.50 MiB | 13.13 MiB/s, done.\r\n",
      "Resolving deltas:   0% (0/3678)\r",
      "Resolving deltas:   1% (45/3678)\r",
      "Resolving deltas:   2% (103/3678)\r",
      "Resolving deltas:   4% (149/3678)\r",
      "Resolving deltas:   5% (186/3678)\r",
      "Resolving deltas:   6% (223/3678)\r",
      "Resolving deltas:   7% (261/3678)\r",
      "Resolving deltas:   8% (305/3678)\r",
      "Resolving deltas:   9% (339/3678)\r",
      "Resolving deltas:  10% (369/3678)\r",
      "Resolving deltas:  11% (410/3678)\r",
      "Resolving deltas:  12% (442/3678)\r",
      "Resolving deltas:  13% (482/3678)\r",
      "Resolving deltas:  14% (532/3678)\r",
      "Resolving deltas:  15% (559/3678)\r",
      "Resolving deltas:  16% (591/3678)\r",
      "Resolving deltas:  17% (637/3678)\r",
      "Resolving deltas:  18% (664/3678)\r",
      "Resolving deltas:  19% (701/3678)\r",
      "Resolving deltas:  20% (738/3678)\r",
      "Resolving deltas:  21% (773/3678)\r",
      "Resolving deltas:  22% (817/3678)\r",
      "Resolving deltas:  23% (860/3678)\r",
      "Resolving deltas:  25% (932/3678)\r",
      "Resolving deltas:  26% (961/3678)\r",
      "Resolving deltas:  27% (1017/3678)\r",
      "Resolving deltas:  28% (1031/3678)\r",
      "Resolving deltas:  29% (1070/3678)\r",
      "Resolving deltas:  30% (1105/3678)\r",
      "Resolving deltas:  31% (1148/3678)\r",
      "Resolving deltas:  32% (1191/3678)\r",
      "Resolving deltas:  33% (1226/3678)\r",
      "Resolving deltas:  34% (1251/3678)\r",
      "Resolving deltas:  35% (1288/3678)\r",
      "Resolving deltas:  36% (1331/3678)\r",
      "Resolving deltas:  37% (1383/3678)\r",
      "Resolving deltas:  38% (1434/3678)\r",
      "Resolving deltas:  39% (1448/3678)\r",
      "Resolving deltas:  40% (1480/3678)\r",
      "Resolving deltas:  41% (1508/3678)\r",
      "Resolving deltas:  42% (1546/3678)\r",
      "Resolving deltas:  43% (1599/3678)\r",
      "Resolving deltas:  44% (1620/3678)\r"
     ]
    },
    {
     "name": "stdout",
     "output_type": "stream",
     "text": [
      "Resolving deltas:  45% (1681/3678)\r",
      "Resolving deltas:  46% (1725/3678)\r",
      "Resolving deltas:  47% (1754/3678)\r",
      "Resolving deltas:  48% (1766/3678)\r",
      "Resolving deltas:  49% (1804/3678)\r",
      "Resolving deltas:  50% (1868/3678)\r",
      "Resolving deltas:  51% (1881/3678)\r",
      "Resolving deltas:  53% (1954/3678)\r",
      "Resolving deltas:  54% (1989/3678)\r",
      "Resolving deltas:  55% (2025/3678)\r",
      "Resolving deltas:  56% (2069/3678)\r",
      "Resolving deltas:  57% (2110/3678)\r",
      "Resolving deltas:  58% (2146/3678)\r",
      "Resolving deltas:  59% (2179/3678)\r",
      "Resolving deltas:  60% (2212/3678)\r",
      "Resolving deltas:  61% (2279/3678)\r",
      "Resolving deltas:  62% (2281/3678)\r",
      "Resolving deltas:  64% (2362/3678)\r",
      "Resolving deltas:  65% (2399/3678)\r",
      "Resolving deltas:  66% (2460/3678)\r",
      "Resolving deltas:  67% (2475/3678)\r",
      "Resolving deltas:  68% (2528/3678)\r",
      "Resolving deltas:  70% (2576/3678)\r",
      "Resolving deltas:  71% (2617/3678)\r",
      "Resolving deltas:  72% (2654/3678)\r",
      "Resolving deltas:  73% (2699/3678)\r",
      "Resolving deltas:  74% (2727/3678)\r",
      "Resolving deltas:  75% (2773/3678)\r",
      "Resolving deltas:  76% (2807/3678)\r",
      "Resolving deltas:  77% (2852/3678)\r",
      "Resolving deltas:  78% (2871/3678)\r",
      "Resolving deltas:  79% (2906/3678)\r",
      "Resolving deltas:  81% (2983/3678)\r",
      "Resolving deltas:  82% (3016/3678)\r",
      "Resolving deltas:  83% (3053/3678)\r",
      "Resolving deltas:  84% (3095/3678)\r",
      "Resolving deltas:  85% (3129/3678)\r",
      "Resolving deltas:  86% (3180/3678)\r",
      "Resolving deltas:  88% (3238/3678)\r",
      "Resolving deltas:  89% (3295/3678)\r",
      "Resolving deltas:  90% (3311/3678)\r",
      "Resolving deltas:  91% (3347/3678)\r",
      "Resolving deltas:  92% (3385/3678)\r",
      "Resolving deltas:  93% (3422/3678)\r",
      "Resolving deltas:  94% (3460/3678)\r",
      "Resolving deltas:  95% (3502/3678)\r",
      "Resolving deltas:  96% (3535/3678)\r",
      "Resolving deltas:  97% (3599/3678)\r",
      "Resolving deltas:  98% (3605/3678)\r",
      "Resolving deltas:  99% (3642/3678)\r",
      "Resolving deltas: 100% (3678/3678)\r",
      "Resolving deltas: 100% (3678/3678), done.\r\n"
     ]
    }
   ],
   "source": [
    "!git clone https://github.com/qywu/apex"
   ]
  },
  {
   "cell_type": "code",
   "execution_count": null,
   "id": "a3e40058-584b-4afb-953b-25b6d65ffb36",
   "metadata": {
    "collapsed": false,
    "gradient": {
     "editing": false,
     "execution_count": 4,
     "id": "a3e40058-584b-4afb-953b-25b6d65ffb36",
     "kernelId": "a7d7ed12-66e2-4d6b-9942-96b96daf7cfa",
     "source_hidden": false
    }
   },
   "outputs": [
    {
     "name": "stdout",
     "output_type": "stream",
     "text": [
      "/opt/conda/lib/python3.8/site-packages/pip/_internal/commands/install.py:229: UserWarning: Disabling all use of wheels due to the use of --build-option / --global-option / --install-option.\r\n",
      "  cmdoptions.check_install_build_global(options)\r\n",
      "Using pip 21.2.4 from /opt/conda/lib/python3.8/site-packages/pip (python 3.8)\r\n",
      "\u001b[31mERROR: Directory './' is not installable. Neither 'setup.py' nor 'pyproject.toml' found.\u001b[0m\r\n"
     ]
    }
   ],
   "source": [
    "!cd apex\n",
    "!pip install -v --no-cache-dir --global-option=\"--cpp_ext\" --global-option=\"--cuda_ext\" ./"
   ]
  },
  {
   "cell_type": "code",
   "execution_count": null,
   "id": "9b62d90a-a47f-43b0-8aa5-74321615c83b",
   "metadata": {
    "collapsed": false,
    "gradient": {
     "editing": false,
     "execution_count": 1,
     "id": "9b62d90a-a47f-43b0-8aa5-74321615c83b",
     "kernelId": "a7d7ed12-66e2-4d6b-9942-96b96daf7cfa",
     "source_hidden": false
    }
   },
   "outputs": [],
   "source": [
    "import torchfly"
   ]
  },
  {
   "cell_type": "code",
   "execution_count": null,
   "id": "18bc9ae5-228b-44e6-8056-f1516aaf2585",
   "metadata": {
    "collapsed": false,
    "gradient": {
     "editing": false,
     "id": "18bc9ae5-228b-44e6-8056-f1516aaf2585",
     "kernelId": "a7d7ed12-66e2-4d6b-9942-96b96daf7cfa",
     "source_hidden": false
    }
   },
   "outputs": [],
   "source": []
  }
 ],
 "metadata": {},
 "nbformat": 4,
 "nbformat_minor": 5
}
