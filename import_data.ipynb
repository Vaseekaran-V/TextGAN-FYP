{
 "cells": [
  {
   "cell_type": "code",
   "execution_count": 1,
   "id": "4d3d1240",
   "metadata": {
    "gradient": {
     "editing": false,
     "execution_count": 1,
     "id": "967dc744",
     "kernelId": "fb16e222-fe03-45a7-afd5-029efd9e73dd"
    }
   },
   "outputs": [
    {
     "name": "stdout",
     "output_type": "stream",
     "text": [
      "Tue May 10 17:39:13 2022       \n",
      "+-----------------------------------------------------------------------------+\n",
      "| NVIDIA-SMI 460.91.03    Driver Version: 460.91.03    CUDA Version: 11.4     |\n",
      "|-------------------------------+----------------------+----------------------+\n",
      "| GPU  Name        Persistence-M| Bus-Id        Disp.A | Volatile Uncorr. ECC |\n",
      "| Fan  Temp  Perf  Pwr:Usage/Cap|         Memory-Usage | GPU-Util  Compute M. |\n",
      "|                               |                      |               MIG M. |\n",
      "|===============================+======================+======================|\n",
      "|   0  Quadro M4000        Off  | 00000000:00:05.0 Off |                  N/A |\n",
      "| 46%   24C    P8    12W / 120W |      0MiB /  8126MiB |      0%      Default |\n",
      "|                               |                      |                  N/A |\n",
      "+-------------------------------+----------------------+----------------------+\n",
      "                                                                               \n",
      "+-----------------------------------------------------------------------------+\n",
      "| Processes:                                                                  |\n",
      "|  GPU   GI   CI        PID   Type   Process name                  GPU Memory |\n",
      "|        ID   ID                                                   Usage      |\n",
      "|=============================================================================|\n",
      "|  No running processes found                                                 |\n",
      "+-----------------------------------------------------------------------------+\n",
      "WARNING: infoROM is corrupted at gpu 0000:00:05.0\n"
     ]
    }
   ],
   "source": [
    "gpu_info = !nvidia-smi\n",
    "gpu_info = '\\n'.join(gpu_info)\n",
    "if gpu_info.find('failed') >= 0:\n",
    "  print('Not connected to a GPU')\n",
    "else:\n",
    "  print(gpu_info)"
   ]
  },
  {
   "cell_type": "code",
   "execution_count": 2,
   "id": "335f1e4a",
   "metadata": {
    "collapsed": false,
    "gradient": {
     "editing": false,
     "id": "72f3d249",
     "kernelId": "fb16e222-fe03-45a7-afd5-029efd9e73dd",
     "source_hidden": false
    },
    "jupyter": {
     "outputs_hidden": false
    }
   },
   "outputs": [
    {
     "name": "stdout",
     "output_type": "stream",
     "text": [
      "Looking in indexes: https://pypi.org/simple, https://pypi.ngc.nvidia.com\n",
      "Collecting tqdm==4.32.1\n",
      "  Downloading tqdm-4.32.1-py2.py3-none-any.whl (49 kB)\n",
      "\u001b[K     |████████████████████████████████| 49 kB 15.6 MB/s eta 0:00:01\n",
      "\u001b[?25hInstalling collected packages: tqdm\n",
      "  Attempting uninstall: tqdm\n",
      "    Found existing installation: tqdm 4.62.3\n",
      "    Uninstalling tqdm-4.62.3:\n",
      "      Successfully uninstalled tqdm-4.62.3\n",
      "\u001b[31mERROR: pip's dependency resolver does not currently take into account all the packages that are installed. This behaviour is the source of the following dependency conflicts.\n",
      "spacy 3.1.3 requires tqdm<5.0.0,>=4.38.0, but you have tqdm 4.32.1 which is incompatible.\u001b[0m\n",
      "Successfully installed tqdm-4.32.1\n",
      "\u001b[33mWARNING: Running pip as the 'root' user can result in broken permissions and conflicting behaviour with the system package manager. It is recommended to use a virtual environment instead: https://pip.pypa.io/warnings/venv\u001b[0m\n"
     ]
    }
   ],
   "source": [
    "!pip install tqdm==4.32.1"
   ]
  },
  {
   "cell_type": "code",
   "execution_count": 3,
   "id": "68152517",
   "metadata": {
    "collapsed": false,
    "gradient": {
     "editing": false,
     "id": "5ddd8a94",
     "kernelId": "fb16e222-fe03-45a7-afd5-029efd9e73dd",
     "source_hidden": false
    },
    "jupyter": {
     "outputs_hidden": false
    }
   },
   "outputs": [
    {
     "name": "stdout",
     "output_type": "stream",
     "text": [
      "Looking in indexes: https://pypi.org/simple, https://pypi.ngc.nvidia.com\n",
      "Collecting nltk==3.4.5\n",
      "  Downloading nltk-3.4.5.zip (1.5 MB)\n",
      "\u001b[K     |████████████████████████████████| 1.5 MB 25.3 MB/s eta 0:00:01\n",
      "\u001b[?25hRequirement already satisfied: six in /opt/conda/lib/python3.8/site-packages (from nltk==3.4.5) (1.16.0)\n",
      "Building wheels for collected packages: nltk\n",
      "  Building wheel for nltk (setup.py) ... \u001b[?25ldone\n",
      "\u001b[?25h  Created wheel for nltk: filename=nltk-3.4.5-py3-none-any.whl size=1449920 sha256=6135a6d257c7e10fa2a1609923e79781cc3f477ad06301fa8cbf665f961cab9e\n",
      "  Stored in directory: /tmp/pip-ephem-wheel-cache-at2u2drv/wheels/23/18/48/8fd6ec11da38406b309470566d6f099c04805d2ec61d7829e7\n",
      "Successfully built nltk\n",
      "Installing collected packages: nltk\n",
      "  Attempting uninstall: nltk\n",
      "    Found existing installation: nltk 3.6.4\n",
      "    Uninstalling nltk-3.6.4:\n",
      "      Successfully uninstalled nltk-3.6.4\n",
      "Successfully installed nltk-3.4.5\n",
      "\u001b[33mWARNING: Running pip as the 'root' user can result in broken permissions and conflicting behaviour with the system package manager. It is recommended to use a virtual environment instead: https://pip.pypa.io/warnings/venv\u001b[0m\n"
     ]
    }
   ],
   "source": [
    "!pip install nltk==3.4.5"
   ]
  },
  {
   "cell_type": "code",
   "execution_count": 4,
   "id": "ac573cac",
   "metadata": {
    "gradient": {
     "editing": false,
     "id": "65d78adc",
     "kernelId": "fb16e222-fe03-45a7-afd5-029efd9e73dd"
    }
   },
   "outputs": [
    {
     "name": "stderr",
     "output_type": "stream",
     "text": [
      "[nltk_data] Downloading package punkt to /root/nltk_data...\n",
      "[nltk_data]   Unzipping tokenizers/punkt.zip.\n"
     ]
    },
    {
     "data": {
      "text/plain": [
       "True"
      ]
     },
     "execution_count": 4,
     "metadata": {},
     "output_type": "execute_result"
    }
   ],
   "source": [
    "import nltk\n",
    "nltk.download('punkt')"
   ]
  },
  {
   "cell_type": "code",
   "execution_count": 5,
   "id": "72a679bb",
   "metadata": {
    "gradient": {
     "editing": false,
     "id": "45bfdfab",
     "kernelId": "fb16e222-fe03-45a7-afd5-029efd9e73dd"
    }
   },
   "outputs": [
    {
     "name": "stdout",
     "output_type": "stream",
     "text": [
      "Looking in indexes: https://pypi.org/simple, https://pypi.ngc.nvidia.com\n",
      "Collecting torch==1.4.0\n",
      "  Downloading torch-1.4.0-cp38-cp38-manylinux1_x86_64.whl (753.4 MB)\n",
      "\u001b[K     |████████████████████████████████| 753.4 MB 60.5 MB/s eta 0:00:01MB 83.1 MB/s eta 0:00:08��███▊                      | 228.7 MB 76.3 MB/s eta 0:00:07███████████▎                | 360.4 MB 77.5 MB/s eta 0:00:06��▌               | 389.4 MB 77.5 MB/s eta 0:00:05\n",
      "\u001b[?25hInstalling collected packages: torch\n",
      "  Attempting uninstall: torch\n",
      "    Found existing installation: torch 1.10.0a0+0aef44c\n",
      "    Uninstalling torch-1.10.0a0+0aef44c:\n",
      "      Successfully uninstalled torch-1.10.0a0+0aef44c\n",
      "\u001b[31mERROR: pip's dependency resolver does not currently take into account all the packages that are installed. This behaviour is the source of the following dependency conflicts.\n",
      "torchvision 0.11.0a0 requires torch==1.10.0a0+0aef44c, but you have torch 1.4.0 which is incompatible.\n",
      "torchtext 0.11.0a0 requires torch==1.10.0a0+0aef44c, but you have torch 1.4.0 which is incompatible.\u001b[0m\n",
      "Successfully installed torch-1.4.0\n",
      "\u001b[33mWARNING: Running pip as the 'root' user can result in broken permissions and conflicting behaviour with the system package manager. It is recommended to use a virtual environment instead: https://pip.pypa.io/warnings/venv\u001b[0m\n"
     ]
    }
   ],
   "source": [
    "!pip install torch==1.4.0"
   ]
  },
  {
   "cell_type": "code",
   "execution_count": 6,
   "id": "a8403e49",
   "metadata": {
    "gradient": {
     "editing": false,
     "id": "29c5ae3e",
     "kernelId": "fb16e222-fe03-45a7-afd5-029efd9e73dd"
    }
   },
   "outputs": [
    {
     "name": "stdout",
     "output_type": "stream",
     "text": [
      "Looking in indexes: https://pypi.org/simple, https://pypi.ngc.nvidia.com\n",
      "Collecting https://github.com/kpu/kenlm/archive/master.zip\n",
      "  Downloading https://github.com/kpu/kenlm/archive/master.zip (542 kB)\n",
      "\u001b[K     |████████████████████████████████| 542 kB 5.5 MB/s eta 0:00:01\n",
      "\u001b[?25hBuilding wheels for collected packages: kenlm\n",
      "  Building wheel for kenlm (setup.py) ... \u001b[?25ldone\n",
      "\u001b[?25h  Created wheel for kenlm: filename=kenlm-0.0.0-cp38-cp38-linux_x86_64.whl size=2967576 sha256=5684a2053d1678a05e56a8b3904e4284a5bd554731fe0c072ff2acfd52b10d6e\n",
      "  Stored in directory: /tmp/pip-ephem-wheel-cache-l0fv56wc/wheels/ff/08/4e/a3ddc0e786e0f3c1fcd2e7a82c4324c02fc3ae2638471406d2\n",
      "Successfully built kenlm\n",
      "Installing collected packages: kenlm\n",
      "Successfully installed kenlm-0.0.0\n",
      "\u001b[33mWARNING: Running pip as the 'root' user can result in broken permissions and conflicting behaviour with the system package manager. It is recommended to use a virtual environment instead: https://pip.pypa.io/warnings/venv\u001b[0m\n"
     ]
    }
   ],
   "source": [
    "!pip install https://github.com/kpu/kenlm/archive/master.zip\n",
    "import kenlm"
   ]
  },
  {
   "cell_type": "code",
   "execution_count": 8,
   "id": "c8a798b2",
   "metadata": {
    "gradient": {
     "editing": false,
     "id": "8ced5eef",
     "kernelId": "fb16e222-fe03-45a7-afd5-029efd9e73dd"
    }
   },
   "outputs": [
    {
     "name": "stdout",
     "output_type": "stream",
     "text": [
      "nohup: ignoring input and appending output to 'nohup.out'\n",
      "^C\n"
     ]
    }
   ],
   "source": [
    "!nohup python3 run/run_leakgan.py 1 0"
   ]
  },
  {
   "cell_type": "code",
   "execution_count": null,
   "id": "67723511",
   "metadata": {
    "gradient": {
     "editing": false,
     "id": "d569f704",
     "kernelId": "fb16e222-fe03-45a7-afd5-029efd9e73dd"
    }
   },
   "outputs": [],
   "source": [
    "!exit"
   ]
  },
  {
   "cell_type": "code",
   "execution_count": null,
   "id": "7303d648",
   "metadata": {},
   "outputs": [],
   "source": []
  }
 ],
 "metadata": {
  "kernelspec": {
   "display_name": "Python 3 (ipykernel)",
   "language": "python",
   "name": "python3"
  },
  "language_info": {
   "codemirror_mode": {
    "name": "ipython",
    "version": 3
   },
   "file_extension": ".py",
   "mimetype": "text/x-python",
   "name": "python",
   "nbconvert_exporter": "python",
   "pygments_lexer": "ipython3",
   "version": "3.8.12"
  }
 },
 "nbformat": 4,
 "nbformat_minor": 5
}
